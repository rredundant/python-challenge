{
 "cells": [
  {
   "cell_type": "code",
   "execution_count": 2,
   "metadata": {},
   "outputs": [],
   "source": [
    "import os\n",
    "import csv\n",
    "unique_votes = 0\n",
    "candidate_votes = {}"
   ]
  },
  {
   "cell_type": "code",
   "execution_count": 3,
   "metadata": {},
   "outputs": [],
   "source": [
    "with open('election_data.csv', 'r') as f:\n",
    "    reader = csv.reader(f,)\n",
    "    next(reader)\n",
    "    for row in reader:\n",
    "        unique_votes += 1\n",
    "        if row[2] not in candidate_votes:\n",
    "            candidate_votes[row[2]] = 1\n",
    "        elif row[2] in candidate_votes:\n",
    "            candidate_votes[row[2]] += 1"
   ]
  },
  {
   "cell_type": "code",
   "execution_count": 4,
   "metadata": {},
   "outputs": [],
   "source": [
    "percent_votes = {candidate: vote / unique_votes for candidate, vote in candidate_votes.items()}"
   ]
  },
  {
   "cell_type": "code",
   "execution_count": 5,
   "metadata": {},
   "outputs": [],
   "source": [
    "winner = \"\"\n",
    "winning = 0\n",
    "for candidate, percent in percent_votes.items():\n",
    "    if percent > winning:\n",
    "        winning = percent\n",
    "        winner = candidate"
   ]
  },
  {
   "cell_type": "code",
   "execution_count": 6,
   "metadata": {},
   "outputs": [
    {
     "name": "stdout",
     "output_type": "stream",
     "text": [
      "Election Results\n",
      "Total Votes: 3521001\n",
      "Khan:  63.0%\n",
      "Correy:  20.0%\n",
      "Li:  14.0%\n",
      "O'Tooley:  3.0%\n",
      "Winner: Khan\n"
     ]
    }
   ],
   "source": [
    "print(\"Election Results\")\n",
    "print(f\"Total Votes: {unique_votes}\")\n",
    "for candidate, percent in percent_votes.items():\n",
    "    print(f\"{candidate}:  {round(percent * 100, 2)}%\")\n",
    "print(f\"Winner: {winner}\")"
   ]
  },
  {
   "cell_type": "code",
   "execution_count": 9,
   "metadata": {},
   "outputs": [],
   "source": [
    "file = open(\"Election_Results.txt\", \"w\")\n",
    "file.write(\"Election Results\" + \"\\n\")\n",
    "file.write(f\"Total Votes: {unique_votes}\" + \"\\n\")\n",
    "for candidate, percent in percent_votes.items():\n",
    "    file.write(f\"{candidate}:  {round(percent * 100, 2)}%\" + \"\\n\")\n",
    "file.write(f\"Winner: {winner}\")\n",
    "file.close()"
   ]
  },
  {
   "cell_type": "code",
   "execution_count": null,
   "metadata": {},
   "outputs": [],
   "source": []
  }
 ],
 "metadata": {
  "kernelspec": {
   "display_name": "Python 3",
   "language": "python",
   "name": "python3"
  },
  "language_info": {
   "codemirror_mode": {
    "name": "ipython",
    "version": 3
   },
   "file_extension": ".py",
   "mimetype": "text/x-python",
   "name": "python",
   "nbconvert_exporter": "python",
   "pygments_lexer": "ipython3",
   "version": "3.7.0"
  }
 },
 "nbformat": 4,
 "nbformat_minor": 2
}
