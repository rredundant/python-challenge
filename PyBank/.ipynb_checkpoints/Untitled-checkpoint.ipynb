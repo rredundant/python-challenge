{
 "cells": [
  {
   "cell_type": "code",
   "execution_count": 11,
   "metadata": {},
   "outputs": [],
   "source": [
    "import os\n",
    "import csv\n",
    "unique_months = 0\n",
    "net_change = 0\n",
    "month_change = 0\n",
    "change_list = []\n",
    "last_month = 0\n",
    "row = ['',0]"
   ]
  },
  {
   "cell_type": "code",
   "execution_count": 12,
   "metadata": {},
   "outputs": [
    {
     "data": {
      "text/plain": [
       "867884"
      ]
     },
     "execution_count": 12,
     "metadata": {},
     "output_type": "execute_result"
    }
   ],
   "source": [
    "with open('budget_data.csv', 'r') as f:\n",
    "    reader = csv.reader(f,)\n",
    "    next(reader)\n",
    "    largest_increase = row\n",
    "    largest_decrease = row\n",
    "    for row in reader:\n",
    "        net_change += int(row[1])\n",
    "        this_month = row[1]\n",
    "        unique_months += 1\n",
    "        month_change = int(this_month) - int(last_month)\n",
    "        change_list.append(month_change)\n",
    "        if month_change > int(largest_increase[1]):\n",
    "            largest_increase = [row[0], month_change]\n",
    "        if month_change < int(largest_decrease[1]):\n",
    "            largest_decrease = [row[0], month_change]\n",
    "        last_month = this_month\n",
    "change_list.pop(0)"
   ]
  },
  {
   "cell_type": "code",
   "execution_count": 13,
   "metadata": {},
   "outputs": [],
   "source": [
    "def mean(x):\n",
    "    return float(sum(x)/len(x))\n",
    "ave_change = round(mean(change_list))"
   ]
  },
  {
   "cell_type": "code",
   "execution_count": 14,
   "metadata": {},
   "outputs": [
    {
     "name": "stdout",
     "output_type": "stream",
     "text": [
      "Financial Analysis\n",
      "Total Months: 86\n",
      "Total: $38382578\n",
      "Average Change: $-2315.12\n",
      "Greatest Increase in Profits: Feb-2012 $1926159\n",
      "Greatest Decrease in Profits: Sep-2013 $-2196167\n"
     ]
    }
   ],
   "source": [
    "print(\"Financial Analysis\")\n",
    "print(f\"Total Months: {unique_months}\")\n",
    "print(f\"Total: ${net_change}\")\n",
    "print(f\"Average Change: ${round(mean(change_list),2)}\")\n",
    "print(f\"Greatest Increase in Profits: {largest_increase[0]} ${largest_increase[1]}\")\n",
    "print(f\"Greatest Decrease in Profits: {largest_decrease[0]} ${largest_decrease[1]}\")"
   ]
  },
  {
   "cell_type": "code",
   "execution_count": 22,
   "metadata": {},
   "outputs": [],
   "source": [
    "file = open(\"Financial_Analysis.txt\", \"w\")\n",
    "file.write(\"Financial Analysis\" + \"\\n\")\n",
    "file.write(f\"Total Months: {unique_months}\" + \"\\n\")\n",
    "file.write(f\"Total: ${net_change}\" + \"\\n\")\n",
    "file.write(f\"Average Change: ${round(mean(change_list),2)}\" + \"\\n\")\n",
    "file.write(f\"Greatest Increase in Profits: {largest_increase[0]} ${largest_increase[1]}\" + \"\\n\")\n",
    "file.write(f\"Greatest Decrease in Profits: {largest_decrease[0]} ${largest_decrease[1]}\")\n",
    "file.close()"
   ]
  },
  {
   "cell_type": "code",
   "execution_count": null,
   "metadata": {},
   "outputs": [],
   "source": []
  }
 ],
 "metadata": {
  "kernelspec": {
   "display_name": "Python 3",
   "language": "python",
   "name": "python3"
  },
  "language_info": {
   "codemirror_mode": {
    "name": "ipython",
    "version": 3
   },
   "file_extension": ".py",
   "mimetype": "text/x-python",
   "name": "python",
   "nbconvert_exporter": "python",
   "pygments_lexer": "ipython3",
   "version": "3.7.0"
  }
 },
 "nbformat": 4,
 "nbformat_minor": 2
}
